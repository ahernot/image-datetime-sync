{
 "cells": [
  {
   "cell_type": "code",
   "execution_count": 1,
   "metadata": {},
   "outputs": [],
   "source": [
    "import os\n",
    "import subprocess\n",
    "import time\n",
    "import datetime"
   ]
  },
  {
   "cell_type": "code",
   "execution_count": 27,
   "metadata": {},
   "outputs": [],
   "source": [
    "\n",
    "filepath = '/Users/anatole/Downloads/2D1A2617.jpeg'"
   ]
  },
  {
   "cell_type": "code",
   "execution_count": 13,
   "metadata": {},
   "outputs": [
    {
     "name": "stdout",
     "output_type": "stream",
     "text": [
      "2022-04-26 15:42:59.750852 1:00:00\n",
      "2022-04-26 16:42:59.750852\n"
     ]
    }
   ],
   "source": [
    "delta = datetime.timedelta(0, 3600, 0)\n",
    "u = datetime.datetime.now()\n",
    "\n",
    "print(u, delta)\n",
    "print(u+delta)"
   ]
  },
  {
   "cell_type": "code",
   "execution_count": 28,
   "metadata": {},
   "outputs": [
    {
     "data": {
      "text/plain": [
       "'\\nCreate Date                     : 2022:04:21 10:36:04.322\\nDate/Time Original              : 2022:04:21 10:36:04.322\\nModify Date                     : 2022:04:21 10:36:04.322\\n'"
      ]
     },
     "execution_count": 28,
     "metadata": {},
     "output_type": "execute_result"
    }
   ],
   "source": [
    "'''\n",
    "Create Date                     : 2022:04:21 10:36:04.322\n",
    "Date/Time Original              : 2022:04:21 10:36:04.322\n",
    "Modify Date                     : 2022:04:21 10:36:04.322\n",
    "'''"
   ]
  },
  {
   "cell_type": "code",
   "execution_count": 33,
   "metadata": {},
   "outputs": [
    {
     "ename": "FileNotFoundError",
     "evalue": "[Errno 2] No such file or directory: '/Users/anatole/Downloads/2D1A2617.jpeg'",
     "output_type": "error",
     "traceback": [
      "\u001b[0;31m---------------------------------------------------------------------------\u001b[0m",
      "\u001b[0;31mFileNotFoundError\u001b[0m                         Traceback (most recent call last)",
      "\u001b[0;32m<ipython-input-33-2631593d64ef>\u001b[0m in \u001b[0;36m<module>\u001b[0;34m\u001b[0m\n\u001b[1;32m      1\u001b[0m \u001b[0;31m# Get access time\u001b[0m\u001b[0;34m\u001b[0m\u001b[0;34m\u001b[0m\u001b[0;34m\u001b[0m\u001b[0m\n\u001b[0;32m----> 2\u001b[0;31m \u001b[0matime\u001b[0m \u001b[0;34m=\u001b[0m \u001b[0mos\u001b[0m\u001b[0;34m.\u001b[0m\u001b[0mstat\u001b[0m\u001b[0;34m(\u001b[0m\u001b[0mfilepath\u001b[0m\u001b[0;34m)\u001b[0m\u001b[0;34m.\u001b[0m\u001b[0mst_atime\u001b[0m\u001b[0;34m\u001b[0m\u001b[0;34m\u001b[0m\u001b[0m\n\u001b[0m",
      "\u001b[0;31mFileNotFoundError\u001b[0m: [Errno 2] No such file or directory: '/Users/anatole/Downloads/2D1A2617.jpeg'"
     ]
    }
   ],
   "source": [
    "# Get access time\n",
    "atime = os.stat(filepath).st_atime"
   ]
  },
  {
   "cell_type": "code",
   "execution_count": 32,
   "metadata": {},
   "outputs": [
    {
     "name": "stdout",
     "output_type": "stream",
     "text": [
      "b'Create Date                     : 2022:04:21 10:36:04\\nDate/Time Original              : 2022:04:21 10:36:04\\n'\n"
     ]
    }
   ],
   "source": [
    "process = subprocess.Popen(\n",
    "    [\n",
    "        EXIFTOOL_PATH,\n",
    "        '-DateTimeOriginal',\n",
    "        filepath\n",
    "    ],\n",
    "    stdin=subprocess.PIPE,\n",
    "    stderr=subprocess.PIPE,\n",
    "    stdout=subprocess.PIPE\n",
    ")\n",
    "\n",
    "stdout, stderr = process.communicate()\n",
    "out_split = stdout.decode('utf-8') .split('\\n')\n",
    "\n",
    "for item in out_split:\n",
    "    if 'Date/Time Original' in item:\n",
    "        datetime_original_str = item.split(': ')[1]\n",
    "        datetime_original_dt = datetime.datetime.strptime(datetime_original_str, '%Y:%m:%d %H:%M:%S')\n",
    "        mtime = datetime_original_dt.timestamp()\n",
    "\n",
    "\n",
    "os.utime(filepath, (atime, mtime))"
   ]
  },
  {
   "cell_type": "code",
   "execution_count": null,
   "metadata": {},
   "outputs": [],
   "source": []
  }
 ],
 "metadata": {
  "interpreter": {
   "hash": "397704579725e15f5c7cb49fe5f0341eb7531c82d19f2c29d197e8b64ab5776b"
  },
  "kernelspec": {
   "display_name": "Python 3.9.0 64-bit",
   "language": "python",
   "name": "python3"
  },
  "language_info": {
   "codemirror_mode": {
    "name": "ipython",
    "version": 3
   },
   "file_extension": ".py",
   "mimetype": "text/x-python",
   "name": "python",
   "nbconvert_exporter": "python",
   "pygments_lexer": "ipython3",
   "version": "3.9.0"
  },
  "orig_nbformat": 4
 },
 "nbformat": 4,
 "nbformat_minor": 2
}
