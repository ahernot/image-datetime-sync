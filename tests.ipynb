{
 "cells": [
  {
   "cell_type": "code",
   "execution_count": 13,
   "metadata": {},
   "outputs": [],
   "source": [
    "import os\n",
    "import subprocess\n",
    "import time"
   ]
  },
  {
   "cell_type": "code",
   "execution_count": 17,
   "metadata": {},
   "outputs": [
    {
     "name": "stdout",
     "output_type": "stream",
     "text": [
      "1650979118.3185198\n"
     ]
    }
   ],
   "source": [
    "EXIFTOOL_PATH = '/usr/local/bin/exiftool'\n",
    "filepath = '/Users/anatole/Downloads/CARTEL/21:04/JPG-edited/2D1A2617.jpeg'"
   ]
  },
  {
   "cell_type": "code",
   "execution_count": null,
   "metadata": {},
   "outputs": [],
   "source": [
    "'''\n",
    "Create Date                     : 2022:04:21 10:36:04.322\n",
    "Date/Time Original              : 2022:04:21 10:36:04.322\n",
    "Modify Date                     : 2022:04:21 10:36:04.322\n",
    "'''"
   ]
  },
  {
   "cell_type": "code",
   "execution_count": null,
   "metadata": {},
   "outputs": [],
   "source": [
    "# Get access time\n",
    "atime = os.stat(filepath).st_atime"
   ]
  },
  {
   "cell_type": "code",
   "execution_count": 15,
   "metadata": {},
   "outputs": [
    {
     "name": "stdout",
     "output_type": "stream",
     "text": [
      "time.struct_time(tm_year=2022, tm_mon=4, tm_mday=21, tm_hour=10, tm_min=36, tm_sec=4, tm_wday=3, tm_yday=111, tm_isdst=-1)\n"
     ]
    }
   ],
   "source": [
    "process = subprocess.Popen(\n",
    "    [\n",
    "        EXIFTOOL_PATH,\n",
    "        '-DateTimeOriginal',\n",
    "        filepath\n",
    "    ],\n",
    "    stdin=subprocess.PIPE,\n",
    "    stderr=subprocess.PIPE,\n",
    "    stdout=subprocess.PIPE\n",
    ")\n",
    "\n",
    "stdout, stderr = process.communicate()\n",
    "out_split = stdout.decode('utf-8') .split('\\n')\n",
    "\n",
    "for item in out_split:\n",
    "    if 'Date/Time Original' in item:\n",
    "        datetime_original_str = item.split(': ')[1]\n",
    "        datetime_original_dt = time.strptime(datetime_original_str, '%Y:%m:%d %H:%M:%S')\n",
    "        print(datetime_original_dt)\n",
    "\n",
    "os.utime(filepath, file_dict[filepath])"
   ]
  },
  {
   "cell_type": "code",
   "execution_count": null,
   "metadata": {},
   "outputs": [],
   "source": [
    "# Write tags\n",
    "process = subprocess.Popen(\n",
    "    [\n",
    "        EXIFTOOL_PATH,\n",
    "        f'-artist={AUTHOR}',\n",
    "        f'-copyright={COPYRIGHT}',\n",
    "        '-overwrite_original',\n",
    "        dirpath\n",
    "    ],\n",
    "    stdin=subprocess.PIPE,\n",
    "    stderr=subprocess.PIPE,\n",
    "    stdout=subprocess.PIPE\n",
    ")\n",
    "stdout, stderr = process.communicate()\n",
    "\n",
    "# Read file atime and mtime\n",
    "for filepath in file_dict.keys():\n",
    "    os.utime(filepath, file_dict[filepath])"
   ]
  },
  {
   "cell_type": "code",
   "execution_count": null,
   "metadata": {},
   "outputs": [],
   "source": []
  }
 ],
 "metadata": {
  "interpreter": {
   "hash": "397704579725e15f5c7cb49fe5f0341eb7531c82d19f2c29d197e8b64ab5776b"
  },
  "kernelspec": {
   "display_name": "Python 3.9.0 64-bit",
   "language": "python",
   "name": "python3"
  },
  "language_info": {
   "codemirror_mode": {
    "name": "ipython",
    "version": 3
   },
   "file_extension": ".py",
   "mimetype": "text/x-python",
   "name": "python",
   "nbconvert_exporter": "python",
   "pygments_lexer": "ipython3",
   "version": "3.9.0"
  },
  "orig_nbformat": 4
 },
 "nbformat": 4,
 "nbformat_minor": 2
}
